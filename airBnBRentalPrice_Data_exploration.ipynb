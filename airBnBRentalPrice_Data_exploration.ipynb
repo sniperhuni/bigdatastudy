{
 "cells": [
  {
   "cell_type": "markdown",
   "metadata": {},
   "source": [
    "<h2>ETL for airbnb dataset</h2>"
   ]
  },
  {
   "cell_type": "code",
   "execution_count": 1,
   "metadata": {},
   "outputs": [],
   "source": [
    "import findspark\n",
    "findspark.init()\n",
    "\n",
    "import pyspark\n",
    "from pyspark.sql import SparkSession, SQLContext"
   ]
  },
  {
   "cell_type": "code",
   "execution_count": 2,
   "metadata": {},
   "outputs": [],
   "source": [
    "from pyspark.sql.types import IntegerType, DoubleType\n",
    "import pyspark.sql.functions as F"
   ]
  },
  {
   "cell_type": "code",
   "execution_count": 82,
   "metadata": {},
   "outputs": [],
   "source": [
    "import matplotlib.pyplot as plt\n",
    "import seaborn as sns"
   ]
  },
  {
   "cell_type": "code",
   "execution_count": 3,
   "metadata": {},
   "outputs": [],
   "source": [
    "# Start spark session\n",
    "# We have some config options, for now I leave it default\n",
    "\n",
    "spark = SparkSession.builder\\\n",
    "            .master('local')\\\n",
    "            .appName('Air BnB Rental Price')\\\n",
    "            .config('spark.some.config.option', 'some-value')\\\n",
    "            .getOrCreate()"
   ]
  },
  {
   "cell_type": "code",
   "execution_count": 4,
   "metadata": {},
   "outputs": [
    {
     "name": "stdout",
     "output_type": "stream",
     "text": [
      "root\n",
      " |-- id: string (nullable = true)\n",
      " |-- listing_url: string (nullable = true)\n",
      " |-- scrape_id: string (nullable = true)\n",
      " |-- last_scraped: string (nullable = true)\n",
      " |-- name: string (nullable = true)\n",
      " |-- summary: string (nullable = true)\n",
      " |-- space: string (nullable = true)\n",
      " |-- description: string (nullable = true)\n",
      " |-- experiences_offered: string (nullable = true)\n",
      " |-- neighborhood_overview: string (nullable = true)\n",
      " |-- notes: string (nullable = true)\n",
      " |-- transit: string (nullable = true)\n",
      " |-- access: string (nullable = true)\n",
      " |-- interaction: string (nullable = true)\n",
      " |-- house_rules: string (nullable = true)\n",
      " |-- thumbnail_url: string (nullable = true)\n",
      " |-- medium_url: string (nullable = true)\n",
      " |-- picture_url: string (nullable = true)\n",
      " |-- xl_picture_url: string (nullable = true)\n",
      " |-- host_id: string (nullable = true)\n",
      " |-- host_url: string (nullable = true)\n",
      " |-- host_name: string (nullable = true)\n",
      " |-- host_since: string (nullable = true)\n",
      " |-- host_location: string (nullable = true)\n",
      " |-- host_about: string (nullable = true)\n",
      " |-- host_response_time: string (nullable = true)\n",
      " |-- host_response_rate: string (nullable = true)\n",
      " |-- host_acceptance_rate: string (nullable = true)\n",
      " |-- host_is_superhost: string (nullable = true)\n",
      " |-- host_thumbnail_url: string (nullable = true)\n",
      " |-- host_picture_url: string (nullable = true)\n",
      " |-- host_neighbourhood: string (nullable = true)\n",
      " |-- host_listings_count: string (nullable = true)\n",
      " |-- host_total_listings_count: string (nullable = true)\n",
      " |-- host_verifications: string (nullable = true)\n",
      " |-- host_has_profile_pic: string (nullable = true)\n",
      " |-- host_identity_verified: string (nullable = true)\n",
      " |-- street: string (nullable = true)\n",
      " |-- neighbourhood: string (nullable = true)\n",
      " |-- neighbourhood_cleansed: string (nullable = true)\n",
      " |-- neighbourhood_group_cleansed: string (nullable = true)\n",
      " |-- city: string (nullable = true)\n",
      " |-- state: string (nullable = true)\n",
      " |-- zipcode: string (nullable = true)\n",
      " |-- market: string (nullable = true)\n",
      " |-- smart_location: string (nullable = true)\n",
      " |-- country_code: string (nullable = true)\n",
      " |-- country: string (nullable = true)\n",
      " |-- latitude: string (nullable = true)\n",
      " |-- longitude: string (nullable = true)\n",
      " |-- is_location_exact: string (nullable = true)\n",
      " |-- property_type: string (nullable = true)\n",
      " |-- room_type: string (nullable = true)\n",
      " |-- accommodates: string (nullable = true)\n",
      " |-- bathrooms: string (nullable = true)\n",
      " |-- bedrooms: string (nullable = true)\n",
      " |-- beds: string (nullable = true)\n",
      " |-- bed_type: string (nullable = true)\n",
      " |-- amenities: string (nullable = true)\n",
      " |-- square_feet: string (nullable = true)\n",
      " |-- price: string (nullable = true)\n",
      " |-- weekly_price: string (nullable = true)\n",
      " |-- monthly_price: string (nullable = true)\n",
      " |-- security_deposit: string (nullable = true)\n",
      " |-- cleaning_fee: string (nullable = true)\n",
      " |-- guests_included: string (nullable = true)\n",
      " |-- extra_people: string (nullable = true)\n",
      " |-- minimum_nights: string (nullable = true)\n",
      " |-- maximum_nights: string (nullable = true)\n",
      " |-- minimum_minimum_nights: string (nullable = true)\n",
      " |-- maximum_minimum_nights: string (nullable = true)\n",
      " |-- minimum_maximum_nights: string (nullable = true)\n",
      " |-- maximum_maximum_nights: string (nullable = true)\n",
      " |-- minimum_nights_avg_ntm: string (nullable = true)\n",
      " |-- maximum_nights_avg_ntm: string (nullable = true)\n",
      " |-- calendar_updated: string (nullable = true)\n",
      " |-- has_availability: string (nullable = true)\n",
      " |-- availability_30: string (nullable = true)\n",
      " |-- availability_60: string (nullable = true)\n",
      " |-- availability_90: string (nullable = true)\n",
      " |-- availability_365: string (nullable = true)\n",
      " |-- calendar_last_scraped: string (nullable = true)\n",
      " |-- number_of_reviews: string (nullable = true)\n",
      " |-- number_of_reviews_ltm: string (nullable = true)\n",
      " |-- first_review: string (nullable = true)\n",
      " |-- last_review: string (nullable = true)\n",
      " |-- review_scores_rating: string (nullable = true)\n",
      " |-- review_scores_accuracy: string (nullable = true)\n",
      " |-- review_scores_cleanliness: string (nullable = true)\n",
      " |-- review_scores_checkin: string (nullable = true)\n",
      " |-- review_scores_communication: string (nullable = true)\n",
      " |-- review_scores_location: string (nullable = true)\n",
      " |-- review_scores_value: string (nullable = true)\n",
      " |-- requires_license: string (nullable = true)\n",
      " |-- license: string (nullable = true)\n",
      " |-- jurisdiction_names: string (nullable = true)\n",
      " |-- instant_bookable: string (nullable = true)\n",
      " |-- is_business_travel_ready: string (nullable = true)\n",
      " |-- cancellation_policy: string (nullable = true)\n",
      " |-- require_guest_profile_picture: string (nullable = true)\n",
      " |-- require_guest_phone_verification: string (nullable = true)\n",
      " |-- calculated_host_listings_count: string (nullable = true)\n",
      " |-- calculated_host_listings_count_entire_homes: string (nullable = true)\n",
      " |-- calculated_host_listings_count_private_rooms: string (nullable = true)\n",
      " |-- calculated_host_listings_count_shared_rooms: string (nullable = true)\n",
      " |-- reviews_per_month: string (nullable = true)\n",
      "\n"
     ]
    }
   ],
   "source": [
    "# import dataset\n",
    "filePath = 'data/sf-airbnb/sf-airbnb.csv'\n",
    "\n",
    "# We have double quotes in our data field so use this : option('escape', '\\\"\"') \n",
    "# To enable multiline : option('multiline', 'true')\n",
    "# We can ignore commas in quotes : .csv(filePath, quote='\"')\n",
    "\n",
    "airbnbDF = spark.read.options(header=True).option('escape', '\\\"').option('multiline', 'true')\\\n",
    "            .csv(filePath, quote='\\\"')\n",
    "\n",
    "airbnbDF.printSchema()"
   ]
  },
  {
   "cell_type": "code",
   "execution_count": 5,
   "metadata": {},
   "outputs": [
    {
     "data": {
      "text/plain": [
       "7151"
      ]
     },
     "execution_count": 5,
     "metadata": {},
     "output_type": "execute_result"
    }
   ],
   "source": [
    "# size of dataset\n",
    "airbnbDF.select('id').count()"
   ]
  },
  {
   "cell_type": "code",
   "execution_count": 6,
   "metadata": {},
   "outputs": [
    {
     "data": {
      "text/plain": [
       "106"
      ]
     },
     "execution_count": 6,
     "metadata": {},
     "output_type": "execute_result"
    }
   ],
   "source": [
    "# number of columns\n",
    "\n",
    "len(airbnbDF.columns)"
   ]
  },
  {
   "cell_type": "code",
   "execution_count": 7,
   "metadata": {},
   "outputs": [
    {
     "name": "stdout",
     "output_type": "stream",
     "text": [
      "+----+\n",
      "|  id|\n",
      "+----+\n",
      "| 958|\n",
      "|5858|\n",
      "|7918|\n",
      "|8142|\n",
      "|8339|\n",
      "+----+\n",
      "only showing top 5 rows\n",
      "\n"
     ]
    }
   ],
   "source": [
    "airbnbDF.select('id').show(5)"
   ]
  },
  {
   "cell_type": "code",
   "execution_count": 8,
   "metadata": {},
   "outputs": [
    {
     "name": "stdout",
     "output_type": "stream",
     "text": [
      "+--------------+\n",
      "|     scrape_id|\n",
      "+--------------+\n",
      "|20190306152813|\n",
      "+--------------+\n",
      "\n"
     ]
    }
   ],
   "source": [
    "airbnbDF.select('scrape_id').distinct().show()"
   ]
  },
  {
   "cell_type": "code",
   "execution_count": 9,
   "metadata": {},
   "outputs": [
    {
     "name": "stdout",
     "output_type": "stream",
     "text": [
      "+------------+\n",
      "|last_scraped|\n",
      "+------------+\n",
      "|  2019-03-06|\n",
      "+------------+\n",
      "\n"
     ]
    }
   ],
   "source": [
    "airbnbDF.select('last_scraped').distinct().show()"
   ]
  },
  {
   "cell_type": "code",
   "execution_count": 10,
   "metadata": {},
   "outputs": [],
   "source": [
    "# We can delete 'scrape_id' and 'last_scraped' columns"
   ]
  },
  {
   "cell_type": "code",
   "execution_count": 11,
   "metadata": {},
   "outputs": [
    {
     "name": "stdout",
     "output_type": "stream",
     "text": [
      "+--------------------+\n",
      "|                name|\n",
      "+--------------------+\n",
      "|Bright, Modern Ga...|\n",
      "|  Creative Sanctuary|\n",
      "|A Friendly Room -...|\n",
      "|Friendly Room Apt...|\n",
      "|Historic Alamo Sq...|\n",
      "+--------------------+\n",
      "only showing top 5 rows\n",
      "\n"
     ]
    }
   ],
   "source": [
    "airbnbDF.select('name').show(5)"
   ]
  },
  {
   "cell_type": "code",
   "execution_count": 12,
   "metadata": {},
   "outputs": [
    {
     "name": "stdout",
     "output_type": "stream",
     "text": [
      "+--------------------+\n",
      "|             summary|\n",
      "+--------------------+\n",
      "|New update: the h...|\n",
      "|                null|\n",
      "|Nice and good pub...|\n",
      "|Nice and good pub...|\n",
      "|Pls email before ...|\n",
      "+--------------------+\n",
      "only showing top 5 rows\n",
      "\n"
     ]
    }
   ],
   "source": [
    "airbnbDF.select('summary').show(5)"
   ]
  },
  {
   "cell_type": "code",
   "execution_count": 13,
   "metadata": {},
   "outputs": [
    {
     "name": "stdout",
     "output_type": "stream",
     "text": [
      "+--------------------+\n",
      "|               space|\n",
      "+--------------------+\n",
      "|Newly remodeled, ...|\n",
      "|We live in a larg...|\n",
      "|Room rental-sunny...|\n",
      "|Room rental Sunny...|\n",
      "|Please send us a ...|\n",
      "+--------------------+\n",
      "only showing top 5 rows\n",
      "\n"
     ]
    }
   ],
   "source": [
    "airbnbDF.select('space').show(5)"
   ]
  },
  {
   "cell_type": "code",
   "execution_count": 14,
   "metadata": {},
   "outputs": [
    {
     "name": "stdout",
     "output_type": "stream",
     "text": [
      "+--------------------+\n",
      "|         description|\n",
      "+--------------------+\n",
      "|New update: the h...|\n",
      "|We live in a larg...|\n",
      "|Nice and good pub...|\n",
      "|Nice and good pub...|\n",
      "|Pls email before ...|\n",
      "+--------------------+\n",
      "only showing top 5 rows\n",
      "\n"
     ]
    }
   ],
   "source": [
    "airbnbDF.select('description').show(5)"
   ]
  },
  {
   "cell_type": "code",
   "execution_count": 15,
   "metadata": {},
   "outputs": [
    {
     "name": "stdout",
     "output_type": "stream",
     "text": [
      "+-------------------+\n",
      "|experiences_offered|\n",
      "+-------------------+\n",
      "|               none|\n",
      "+-------------------+\n",
      "\n"
     ]
    }
   ],
   "source": [
    "# No experiences were offered\n",
    "# we can delete this column\n",
    "\n",
    "airbnbDF.select('experiences_offered').distinct().show()"
   ]
  },
  {
   "cell_type": "code",
   "execution_count": 16,
   "metadata": {},
   "outputs": [
    {
     "name": "stdout",
     "output_type": "stream",
     "text": [
      "+---------------------+\n",
      "|neighborhood_overview|\n",
      "+---------------------+\n",
      "| *Quiet cul de sac...|\n",
      "| I love how our ne...|\n",
      "| Shopping old town...|\n",
      "|                 null|\n",
      "|                 null|\n",
      "+---------------------+\n",
      "only showing top 5 rows\n",
      "\n"
     ]
    }
   ],
   "source": [
    "airbnbDF.select('neighborhood_overview').show(5)"
   ]
  },
  {
   "cell_type": "code",
   "execution_count": 17,
   "metadata": {},
   "outputs": [
    {
     "name": "stdout",
     "output_type": "stream",
     "text": [
      "+-----------------------------------------------------------------------------------------------------------------------------------------------------------------------------------------------------------------------------------------------+\n",
      "|notes                                                                                                                                                                                                                                          |\n",
      "+-----------------------------------------------------------------------------------------------------------------------------------------------------------------------------------------------------------------------------------------------+\n",
      "|Due to the fact that we have children and a dog, we are up early 7-8am and their footsteps or paws can be heard from the apartment. Our place is ideal for early risers or hard sleepers who appreciate quiet evenings more than late mornings.|\n",
      "|All the furniture in the house was handmade so there is a very special feeling there. We love living here and hope that others feel the same.                                                                                                  |\n",
      "|Please email your picture id with print name (SF school resident id)and job/school offer letter/apply school letter right after reservation.                                                                                                   |\n",
      "|Please email your picture id with print name (SF school resident id)and job/school offer letter/apply school letter right after reservation.                                                                                                   |\n",
      "|tax ID on file tax ID on file                                                                                                                                                                                                                  |\n",
      "+-----------------------------------------------------------------------------------------------------------------------------------------------------------------------------------------------------------------------------------------------+\n",
      "only showing top 5 rows\n",
      "\n"
     ]
    }
   ],
   "source": [
    "airbnbDF.select('notes').show(5, False)"
   ]
  },
  {
   "cell_type": "code",
   "execution_count": 18,
   "metadata": {},
   "outputs": [
    {
     "name": "stdout",
     "output_type": "stream",
     "text": [
      "+-------------------------------------------------------------------------------------------------------------------------------------------------------------------------------------------------------------------------------------------------------------------------------------------------------------------------------------------------------------------------------------------------------------------------------------------------------------------------------------------------------------------+\n",
      "|transit                                                                                                                                                                                                                                                                                                                                                                                                                                                                                                            |\n",
      "+-------------------------------------------------------------------------------------------------------------------------------------------------------------------------------------------------------------------------------------------------------------------------------------------------------------------------------------------------------------------------------------------------------------------------------------------------------------------------------------------------------------------+\n",
      "|*Public Transportation is 1/2 block away.  *Centrally located with easy access to major lines of public transportation (N-Judah, Haight #7, J-Church, Fillmore, and Bart) *No Parking is offered.  *Street parking is unmetered. From 9AM - 8PM restricted to two hours per space (this is the case for residential street parking city wide).  *Overnight and weekend parking on the street is unrestricted.  *Street cleaning happens at least 2 times a week on most streets. *Taxis suggested for Airport trips|\n",
      "|The train is two blocks away and you can stop and get a coffee on your way there :)                                                                                                                                                                                                                                                                                                                                                                                                                                |\n",
      "|N Juda Muni and bus stop.  Street parking.                                                                                                                                                                                                                                                                                                                                                                                                                                                                         |\n",
      "|N Juda Muni, Bus and UCSF Shuttle. small shopping town. McDonald, Whole food & regular food store.                                                                                                                                                                                                                                                                                                                                                                                                                 |\n",
      "|null                                                                                                                                                                                                                                                                                                                                                                                                                                                                                                               |\n",
      "+-------------------------------------------------------------------------------------------------------------------------------------------------------------------------------------------------------------------------------------------------------------------------------------------------------------------------------------------------------------------------------------------------------------------------------------------------------------------------------------------------------------------+\n",
      "only showing top 5 rows\n",
      "\n"
     ]
    }
   ],
   "source": [
    "airbnbDF.select('transit').show(5, False)"
   ]
  },
  {
   "cell_type": "code",
   "execution_count": 19,
   "metadata": {},
   "outputs": [
    {
     "name": "stdout",
     "output_type": "stream",
     "text": [
      "+-----------------------------------------------------------------------------------------------------------------------------------------------------------------------------------------------+\n",
      "|access                                                                                                                                                                                         |\n",
      "+-----------------------------------------------------------------------------------------------------------------------------------------------------------------------------------------------+\n",
      "|*Full access to patio and backyard (shared with us and our dog who live upstairs) *Beautiful garden with fruit trees, native plants and lawn *Washer and dryer *Children's toys *Charcoal grill|\n",
      "|Our deck, garden, gourmet kitchen and extensive art, design and literature library.                                                                                                            |\n",
      "|null                                                                                                                                                                                           |\n",
      "|null                                                                                                                                                                                           |\n",
      "|Guests have access to everything listed and shown.                                                                                                                                             |\n",
      "+-----------------------------------------------------------------------------------------------------------------------------------------------------------------------------------------------+\n",
      "only showing top 5 rows\n",
      "\n"
     ]
    }
   ],
   "source": [
    "airbnbDF.select('access').show(5, False)"
   ]
  },
  {
   "cell_type": "code",
   "execution_count": 20,
   "metadata": {},
   "outputs": [
    {
     "data": {
      "text/plain": [
       "2291"
      ]
     },
     "execution_count": 20,
     "metadata": {},
     "output_type": "execute_result"
    }
   ],
   "source": [
    "# Too many null values, I won't keep this column\n",
    "\n",
    "airbnbDF.select('interaction').where(F.col('interaction').isNull()).count()"
   ]
  },
  {
   "cell_type": "code",
   "execution_count": 21,
   "metadata": {},
   "outputs": [
    {
     "name": "stdout",
     "output_type": "stream",
     "text": [
      "+--------------------+\n",
      "|         house_rules|\n",
      "+--------------------+\n",
      "|* No Pets - even ...|\n",
      "|Please respect th...|\n",
      "|No party, No smok...|\n",
      "|no pet no smoke n...|\n",
      "|House Manual and ...|\n",
      "+--------------------+\n",
      "only showing top 5 rows\n",
      "\n"
     ]
    }
   ],
   "source": [
    "airbnbDF.select('house_rules').show(5)"
   ]
  },
  {
   "cell_type": "code",
   "execution_count": 22,
   "metadata": {},
   "outputs": [
    {
     "name": "stdout",
     "output_type": "stream",
     "text": [
      "+-------------+\n",
      "|thumbnail_url|\n",
      "+-------------+\n",
      "|         null|\n",
      "+-------------+\n",
      "\n"
     ]
    }
   ],
   "source": [
    "# We do not need this column\n",
    "airbnbDF.select('thumbnail_url').distinct().show()"
   ]
  },
  {
   "cell_type": "code",
   "execution_count": 23,
   "metadata": {},
   "outputs": [
    {
     "name": "stdout",
     "output_type": "stream",
     "text": [
      "+----------+\n",
      "|medium_url|\n",
      "+----------+\n",
      "|      null|\n",
      "+----------+\n",
      "\n"
     ]
    }
   ],
   "source": [
    "# We do not need this column\n",
    "airbnbDF.select('medium_url').distinct().show()"
   ]
  },
  {
   "cell_type": "code",
   "execution_count": 24,
   "metadata": {},
   "outputs": [
    {
     "name": "stdout",
     "output_type": "stream",
     "text": [
      "+---------------------------------------------------------------------------------------------+\n",
      "|picture_url                                                                                  |\n",
      "+---------------------------------------------------------------------------------------------+\n",
      "|https://a0.muscache.com/im/pictures/7b5db254-90d6-4242-9536-47af9d1caa77.jpg?aki_policy=large|\n",
      "|https://a0.muscache.com/im/pictures/4938911/b36a4bd7_original.jpg?aki_policy=large           |\n",
      "|https://a0.muscache.com/im/pictures/12341660/6fdbc6d9_original.jpg?aki_policy=large          |\n",
      "|https://a0.muscache.com/im/pictures/11336423/723a8779_original.jpg?aki_policy=large          |\n",
      "|https://a0.muscache.com/im/pictures/c80cb175-7b8c-42f3-a51d-6f0d5682d7e3.jpg?aki_policy=large|\n",
      "+---------------------------------------------------------------------------------------------+\n",
      "only showing top 5 rows\n",
      "\n"
     ]
    }
   ],
   "source": [
    "# For now, I will remove this column\n",
    "\n",
    "airbnbDF.select('picture_url').distinct().show(5, False)"
   ]
  },
  {
   "cell_type": "code",
   "execution_count": 25,
   "metadata": {},
   "outputs": [
    {
     "name": "stdout",
     "output_type": "stream",
     "text": [
      "+--------------+\n",
      "|xl_picture_url|\n",
      "+--------------+\n",
      "|          null|\n",
      "+--------------+\n",
      "\n"
     ]
    }
   ],
   "source": [
    "# We do not need this column\n",
    "airbnbDF.select('xl_picture_url').distinct().show()"
   ]
  },
  {
   "cell_type": "code",
   "execution_count": 26,
   "metadata": {},
   "outputs": [
    {
     "name": "stdout",
     "output_type": "stream",
     "text": [
      "+-------+\n",
      "|host_id|\n",
      "+-------+\n",
      "|   1169|\n",
      "|   8904|\n",
      "|  21994|\n",
      "|  21994|\n",
      "|  24215|\n",
      "+-------+\n",
      "only showing top 5 rows\n",
      "\n"
     ]
    }
   ],
   "source": [
    "airbnbDF.select('host_id').show(5)"
   ]
  },
  {
   "cell_type": "code",
   "execution_count": 27,
   "metadata": {},
   "outputs": [
    {
     "name": "stdout",
     "output_type": "stream",
     "text": [
      "+---------------------------------------+\n",
      "|host_url                               |\n",
      "+---------------------------------------+\n",
      "|https://www.airbnb.com/users/show/1169 |\n",
      "|https://www.airbnb.com/users/show/8904 |\n",
      "|https://www.airbnb.com/users/show/21994|\n",
      "|https://www.airbnb.com/users/show/21994|\n",
      "|https://www.airbnb.com/users/show/24215|\n",
      "+---------------------------------------+\n",
      "only showing top 5 rows\n",
      "\n"
     ]
    }
   ],
   "source": [
    "# I do not need to keep this\n",
    "airbnbDF.select('host_url').show(5, False)"
   ]
  },
  {
   "cell_type": "code",
   "execution_count": 28,
   "metadata": {},
   "outputs": [
    {
     "name": "stdout",
     "output_type": "stream",
     "text": [
      "+----------------+\n",
      "|       host_name|\n",
      "+----------------+\n",
      "|           Holly|\n",
      "|Philip And Tania|\n",
      "|           Aaron|\n",
      "|           Aaron|\n",
      "|            Rosy|\n",
      "+----------------+\n",
      "only showing top 5 rows\n",
      "\n"
     ]
    }
   ],
   "source": [
    "# I donot need this too.\n",
    "airbnbDF.select('host_name').show(5)"
   ]
  },
  {
   "cell_type": "code",
   "execution_count": 29,
   "metadata": {},
   "outputs": [
    {
     "name": "stdout",
     "output_type": "stream",
     "text": [
      "+----------+\n",
      "|host_since|\n",
      "+----------+\n",
      "|2008-07-31|\n",
      "|2009-03-02|\n",
      "|2009-06-17|\n",
      "|2009-06-17|\n",
      "|2009-07-02|\n",
      "+----------+\n",
      "only showing top 5 rows\n",
      "\n"
     ]
    }
   ],
   "source": [
    "# This is about experience of hosts.\n",
    "\n",
    "airbnbDF.select('host_since').show(5)"
   ]
  },
  {
   "cell_type": "code",
   "execution_count": 30,
   "metadata": {},
   "outputs": [
    {
     "name": "stdout",
     "output_type": "stream",
     "text": [
      "+----------------------------------------+\n",
      "|host_location                           |\n",
      "+----------------------------------------+\n",
      "|San Francisco, California, United States|\n",
      "|San Francisco, California, United States|\n",
      "|San Francisco, California, United States|\n",
      "|San Francisco, California, United States|\n",
      "|San Francisco, California, United States|\n",
      "+----------------------------------------+\n",
      "only showing top 5 rows\n",
      "\n"
     ]
    }
   ],
   "source": [
    "# I do not need this\n",
    "airbnbDF.select('host_location').show(5, False)"
   ]
  },
  {
   "cell_type": "code",
   "execution_count": 31,
   "metadata": {},
   "outputs": [
    {
     "name": "stdout",
     "output_type": "stream",
     "text": [
      "+--------------------+\n",
      "|          host_about|\n",
      "+--------------------+\n",
      "|We are a family w...|\n",
      "|Philip: English t...|\n",
      "|7 minutes walk to...|\n",
      "|7 minutes walk to...|\n",
      "|Always searching ...|\n",
      "+--------------------+\n",
      "only showing top 5 rows\n",
      "\n"
     ]
    }
   ],
   "source": [
    "# I won't keep this for now.\n",
    "\n",
    "airbnbDF.select('host_about').show(5)"
   ]
  },
  {
   "cell_type": "code",
   "execution_count": 32,
   "metadata": {},
   "outputs": [
    {
     "name": "stdout",
     "output_type": "stream",
     "text": [
      "+------------------+-----+\n",
      "|host_response_time|count|\n",
      "+------------------+-----+\n",
      "|a few days or more|   76|\n",
      "|      within a day|  709|\n",
      "|within a few hours| 1272|\n",
      "|               N/A|  725|\n",
      "|    within an hour| 4369|\n",
      "+------------------+-----+\n",
      "\n"
     ]
    }
   ],
   "source": [
    "airbnbDF.groupby('host_response_time').count().show()"
   ]
  },
  {
   "cell_type": "code",
   "execution_count": 33,
   "metadata": {},
   "outputs": [
    {
     "name": "stdout",
     "output_type": "stream",
     "text": [
      "+------------------+\n",
      "|host_response_rate|\n",
      "+------------------+\n",
      "|              100%|\n",
      "|               80%|\n",
      "|              100%|\n",
      "|              100%|\n",
      "|              100%|\n",
      "+------------------+\n",
      "only showing top 5 rows\n",
      "\n"
     ]
    }
   ],
   "source": [
    "airbnbDF.select('host_response_rate').show(5)"
   ]
  },
  {
   "cell_type": "code",
   "execution_count": 34,
   "metadata": {},
   "outputs": [
    {
     "name": "stdout",
     "output_type": "stream",
     "text": [
      "+--------------------+\n",
      "|host_acceptance_rate|\n",
      "+--------------------+\n",
      "|                 N/A|\n",
      "+--------------------+\n",
      "\n"
     ]
    }
   ],
   "source": [
    "airbnbDF.select('host_acceptance_rate').distinct().show()"
   ]
  },
  {
   "cell_type": "code",
   "execution_count": 35,
   "metadata": {},
   "outputs": [
    {
     "name": "stdout",
     "output_type": "stream",
     "text": [
      "+-----------------+\n",
      "|host_is_superhost|\n",
      "+-----------------+\n",
      "|                t|\n",
      "|                f|\n",
      "|                f|\n",
      "|                f|\n",
      "|                f|\n",
      "+-----------------+\n",
      "only showing top 5 rows\n",
      "\n"
     ]
    }
   ],
   "source": [
    "##############################\n",
    "# This is a interesting feature\n",
    "\n",
    "airbnbDF.select('host_is_superhost').show(5)"
   ]
  },
  {
   "cell_type": "code",
   "execution_count": 36,
   "metadata": {},
   "outputs": [],
   "source": [
    "# airbnbDF.select('host_neighbourhood').distinct().show(5)"
   ]
  },
  {
   "cell_type": "code",
   "execution_count": 37,
   "metadata": {},
   "outputs": [
    {
     "name": "stdout",
     "output_type": "stream",
     "text": [
      "+-------------------+\n",
      "|host_listings_count|\n",
      "+-------------------+\n",
      "|                  1|\n",
      "|                  2|\n",
      "|                 10|\n",
      "|                 10|\n",
      "|                  2|\n",
      "+-------------------+\n",
      "only showing top 5 rows\n",
      "\n",
      "+-------------------------+\n",
      "|host_total_listings_count|\n",
      "+-------------------------+\n",
      "|                        1|\n",
      "|                        2|\n",
      "|                       10|\n",
      "|                       10|\n",
      "|                        2|\n",
      "+-------------------------+\n",
      "only showing top 5 rows\n",
      "\n"
     ]
    }
   ],
   "source": [
    "# I will figure this out later\n",
    "\n",
    "airbnbDF.select('host_listings_count').show(5)\n",
    "airbnbDF.select('host_total_listings_count').show(5)"
   ]
  },
  {
   "cell_type": "code",
   "execution_count": 38,
   "metadata": {},
   "outputs": [
    {
     "name": "stdout",
     "output_type": "stream",
     "text": [
      "+-------------------------------------------------------+\n",
      "|host_verifications                                     |\n",
      "+-------------------------------------------------------+\n",
      "|['email', 'phone', 'facebook', 'reviews', 'kba']       |\n",
      "|['email', 'phone', 'reviews', 'kba', 'work_email']     |\n",
      "|['email', 'phone', 'reviews', 'jumio', 'government_id']|\n",
      "|['email', 'phone', 'reviews', 'jumio', 'government_id']|\n",
      "|['email', 'phone', 'reviews', 'kba']                   |\n",
      "+-------------------------------------------------------+\n",
      "only showing top 5 rows\n",
      "\n"
     ]
    }
   ],
   "source": [
    "airbnbDF.select('host_verifications').show(5, False)"
   ]
  },
  {
   "cell_type": "code",
   "execution_count": 39,
   "metadata": {},
   "outputs": [
    {
     "name": "stdout",
     "output_type": "stream",
     "text": [
      "+--------------------+-----+\n",
      "|host_has_profile_pic|count|\n",
      "+--------------------+-----+\n",
      "|                   f|   29|\n",
      "|                   t| 7122|\n",
      "+--------------------+-----+\n",
      "\n"
     ]
    }
   ],
   "source": [
    "airbnbDF.groupby('host_has_profile_pic').count().show()"
   ]
  },
  {
   "cell_type": "code",
   "execution_count": 40,
   "metadata": {},
   "outputs": [
    {
     "name": "stdout",
     "output_type": "stream",
     "text": [
      "+----------------------+-----+\n",
      "|host_identity_verified|count|\n",
      "+----------------------+-----+\n",
      "|                     f| 3078|\n",
      "|                     t| 4073|\n",
      "+----------------------+-----+\n",
      "\n"
     ]
    }
   ],
   "source": [
    "airbnbDF.groupby('host_identity_verified').count().show()"
   ]
  },
  {
   "cell_type": "code",
   "execution_count": 41,
   "metadata": {},
   "outputs": [
    {
     "name": "stdout",
     "output_type": "stream",
     "text": [
      "+--------------------------------+\n",
      "|street                          |\n",
      "+--------------------------------+\n",
      "|San Francisco, CA, United States|\n",
      "|San Francisco, CA, United States|\n",
      "|San Francisco, CA, United States|\n",
      "|San Francisco, CA, United States|\n",
      "|San Francisco, CA, United States|\n",
      "+--------------------------------+\n",
      "only showing top 5 rows\n",
      "\n"
     ]
    }
   ],
   "source": [
    "# will be deleted\n",
    "airbnbDF.select('street').show(5, False)"
   ]
  },
  {
   "cell_type": "code",
   "execution_count": 42,
   "metadata": {},
   "outputs": [
    {
     "name": "stdout",
     "output_type": "stream",
     "text": [
      "+---------------------+\n",
      "|neighbourhood        |\n",
      "+---------------------+\n",
      "|Duboce Triangle      |\n",
      "|Bernal Heights       |\n",
      "|Cole Valley          |\n",
      "|Cole Valley          |\n",
      "|Western Addition/NOPA|\n",
      "+---------------------+\n",
      "only showing top 5 rows\n",
      "\n"
     ]
    }
   ],
   "source": [
    "airbnbDF.select('neighbourhood').show(5, False)"
   ]
  },
  {
   "cell_type": "code",
   "execution_count": 43,
   "metadata": {},
   "outputs": [
    {
     "name": "stdout",
     "output_type": "stream",
     "text": [
      "+----------------------+\n",
      "|neighbourhood_cleansed|\n",
      "+----------------------+\n",
      "|Western Addition      |\n",
      "|Bernal Heights        |\n",
      "|Haight Ashbury        |\n",
      "|Haight Ashbury        |\n",
      "|Western Addition      |\n",
      "+----------------------+\n",
      "only showing top 5 rows\n",
      "\n"
     ]
    }
   ],
   "source": [
    "airbnbDF.select('neighbourhood_cleansed').show(5, False)"
   ]
  },
  {
   "cell_type": "code",
   "execution_count": 44,
   "metadata": {},
   "outputs": [
    {
     "name": "stdout",
     "output_type": "stream",
     "text": [
      "+----------------------------+\n",
      "|neighbourhood_group_cleansed|\n",
      "+----------------------------+\n",
      "|null                        |\n",
      "|null                        |\n",
      "|null                        |\n",
      "|null                        |\n",
      "|null                        |\n",
      "+----------------------------+\n",
      "only showing top 5 rows\n",
      "\n"
     ]
    }
   ],
   "source": [
    "# Will be deleted\n",
    "airbnbDF.select('neighbourhood_group_cleansed').show(5, False)"
   ]
  },
  {
   "cell_type": "code",
   "execution_count": 45,
   "metadata": {},
   "outputs": [
    {
     "name": "stdout",
     "output_type": "stream",
     "text": [
      "+-------------+\n",
      "|         city|\n",
      "+-------------+\n",
      "|San Francisco|\n",
      "|San Francisco|\n",
      "|San Francisco|\n",
      "|San Francisco|\n",
      "|San Francisco|\n",
      "+-------------+\n",
      "only showing top 5 rows\n",
      "\n"
     ]
    }
   ],
   "source": [
    "# This dataset only contain information about Airbnb rentals in San Francisco\n",
    "# We do not need this column\n",
    "\n",
    "airbnbDF.select('city').show(5)"
   ]
  },
  {
   "cell_type": "code",
   "execution_count": 46,
   "metadata": {},
   "outputs": [
    {
     "name": "stdout",
     "output_type": "stream",
     "text": [
      "+-----+\n",
      "|state|\n",
      "+-----+\n",
      "|CA   |\n",
      "|CA   |\n",
      "|CA   |\n",
      "|CA   |\n",
      "|CA   |\n",
      "+-----+\n",
      "only showing top 5 rows\n",
      "\n"
     ]
    }
   ],
   "source": [
    "# will be deleted\n",
    "airbnbDF.select('state').show(5, False)"
   ]
  },
  {
   "cell_type": "code",
   "execution_count": 47,
   "metadata": {},
   "outputs": [
    {
     "name": "stdout",
     "output_type": "stream",
     "text": [
      "+-------+\n",
      "|zipcode|\n",
      "+-------+\n",
      "|94117  |\n",
      "|94110  |\n",
      "|94117  |\n",
      "|94117  |\n",
      "|94117  |\n",
      "+-------+\n",
      "only showing top 5 rows\n",
      "\n"
     ]
    }
   ],
   "source": [
    "airbnbDF.select('zipcode').show(5, False)"
   ]
  },
  {
   "cell_type": "code",
   "execution_count": 48,
   "metadata": {},
   "outputs": [
    {
     "name": "stdout",
     "output_type": "stream",
     "text": [
      "+-------------+\n",
      "|       market|\n",
      "+-------------+\n",
      "|San Francisco|\n",
      "|         null|\n",
      "+-------------+\n",
      "\n"
     ]
    }
   ],
   "source": [
    "# will be deleted\n",
    "airbnbDF.select('market').distinct().show()"
   ]
  },
  {
   "cell_type": "code",
   "execution_count": 49,
   "metadata": {},
   "outputs": [
    {
     "name": "stdout",
     "output_type": "stream",
     "text": [
      "+--------------------+\n",
      "|      smart_location|\n",
      "+--------------------+\n",
      "|South San Francis...|\n",
      "|                  CA|\n",
      "|   San Francisco, CA|\n",
      "|Bernal Heights, S...|\n",
      "|San Francisco, Ha...|\n",
      "|Noe Valley - San ...|\n",
      "|   San Francisco, Ca|\n",
      "|  San Francisco , CA|\n",
      "|       Daly City, CA|\n",
      "|San Francisco, Me...|\n",
      "+--------------------+\n",
      "\n"
     ]
    }
   ],
   "source": [
    "airbnbDF.select('smart_location').distinct().show()"
   ]
  },
  {
   "cell_type": "code",
   "execution_count": 50,
   "metadata": {},
   "outputs": [
    {
     "name": "stdout",
     "output_type": "stream",
     "text": [
      "+------------+-------------+--------+----------+-----------------+\n",
      "|country_code|country      |latitude|longitude |is_location_exact|\n",
      "+------------+-------------+--------+----------+-----------------+\n",
      "|US          |United States|37.76931|-122.43386|t                |\n",
      "|US          |United States|37.74511|-122.42102|t                |\n",
      "|US          |United States|37.76669|-122.4525 |t                |\n",
      "|US          |United States|37.76487|-122.45183|t                |\n",
      "|US          |United States|37.77525|-122.43637|t                |\n",
      "+------------+-------------+--------+----------+-----------------+\n",
      "only showing top 5 rows\n",
      "\n",
      "+-----------------+-----+\n",
      "|is_location_exact|count|\n",
      "+-----------------+-----+\n",
      "|                f| 1091|\n",
      "|                t| 6060|\n",
      "+-----------------+-----+\n",
      "\n"
     ]
    }
   ],
   "source": [
    "'''\n",
    "Country code & country : one value\n",
    "latitude & longitude : not a difference in city area\n",
    "'''\n",
    "\n",
    "airbnbDF.select('country_code', 'country', 'latitude','longitude', 'is_location_exact').show(5, False)\n",
    "\n",
    "# I don't think this is an important feature\n",
    "airbnbDF.groupby('is_location_exact').count().show()"
   ]
  },
  {
   "cell_type": "code",
   "execution_count": 51,
   "metadata": {},
   "outputs": [
    {
     "name": "stdout",
     "output_type": "stream",
     "text": [
      "+-------------+---------------+------------+\n",
      "|property_type|room_type      |accommodates|\n",
      "+-------------+---------------+------------+\n",
      "|Apartment    |Entire home/apt|3           |\n",
      "|Apartment    |Entire home/apt|5           |\n",
      "|Apartment    |Private room   |2           |\n",
      "|Apartment    |Private room   |2           |\n",
      "|House        |Entire home/apt|5           |\n",
      "+-------------+---------------+------------+\n",
      "only showing top 5 rows\n",
      "\n",
      "+-------------+-----+\n",
      "|property_type|count|\n",
      "+-------------+-----+\n",
      "|    Apartment| 3013|\n",
      "|    Townhouse|  140|\n",
      "|       Resort|    8|\n",
      "|  Guest suite|  496|\n",
      "|    Timeshare|    1|\n",
      "+-------------+-----+\n",
      "only showing top 5 rows\n",
      "\n",
      "+---------------+-----+\n",
      "|      room_type|count|\n",
      "+---------------+-----+\n",
      "|    Shared room|  179|\n",
      "|Entire home/apt| 4366|\n",
      "|   Private room| 2606|\n",
      "+---------------+-----+\n",
      "\n"
     ]
    }
   ],
   "source": [
    "airbnbDF.select('property_type', 'room_type', 'accommodates').show(5, False)\n",
    "\n",
    "airbnbDF.groupby('property_type').count().show(5)\n",
    "airbnbDF.groupby('room_type').count().show()"
   ]
  },
  {
   "cell_type": "code",
   "execution_count": 52,
   "metadata": {},
   "outputs": [
    {
     "name": "stdout",
     "output_type": "stream",
     "text": [
      "+---------+--------+----+--------+--------------------+\n",
      "|bathrooms|bedrooms|beds|bed_type|           amenities|\n",
      "+---------+--------+----+--------+--------------------+\n",
      "|        1|       1|   2|Real Bed|{TV,\"Cable TV\",In...|\n",
      "|        1|       2|   3|Real Bed|{Internet,Wifi,Ki...|\n",
      "|        4|       1|   1|Real Bed|{TV,Internet,Wifi...|\n",
      "|        4|       1|   1|Real Bed|{TV,Internet,Wifi...|\n",
      "|      1.5|       2|   2|Real Bed|{TV,Internet,Wifi...|\n",
      "+---------+--------+----+--------+--------------------+\n",
      "only showing top 5 rows\n",
      "\n",
      "+-------------+-----+\n",
      "|     bed_type|count|\n",
      "+-------------+-----+\n",
      "|       Airbed|   11|\n",
      "|        Futon|   32|\n",
      "|Pull-out Sofa|   23|\n",
      "|        Couch|    7|\n",
      "|     Real Bed| 7078|\n",
      "+-------------+-----+\n",
      "\n"
     ]
    }
   ],
   "source": [
    "airbnbDF.select('bathrooms', 'bedrooms', 'beds', 'bed_type', 'amenities').show(5)\n",
    "\n",
    "# The most of beds are real bed, I will remove it\n",
    "airbnbDF.groupby('bed_type').count().show()"
   ]
  },
  {
   "cell_type": "code",
   "execution_count": 53,
   "metadata": {},
   "outputs": [
    {
     "name": "stdout",
     "output_type": "stream",
     "text": [
      "+-----------+-------+------------+-------------+----------------+\n",
      "|square_feet|  price|weekly_price|monthly_price|security_deposit|\n",
      "+-----------+-------+------------+-------------+----------------+\n",
      "|       null|$170.00|   $1,120.00|    $4,200.00|         $100.00|\n",
      "|       null|$235.00|   $1,600.00|    $5,500.00|            null|\n",
      "|       null| $65.00|     $485.00|    $1,685.00|         $200.00|\n",
      "|       null| $65.00|     $490.00|    $1,685.00|         $200.00|\n",
      "|       null|$785.00|        null|         null|           $0.00|\n",
      "+-----------+-------+------------+-------------+----------------+\n",
      "only showing top 5 rows\n",
      "\n",
      "+-----------+-----+\n",
      "|square_feet|count|\n",
      "+-----------+-----+\n",
      "|        800|    4|\n",
      "|        853|    1|\n",
      "|       2700|    1|\n",
      "|       1500|    5|\n",
      "|       2200|    2|\n",
      "|        700|    3|\n",
      "|       1100|    1|\n",
      "|        890|    1|\n",
      "|       1300|    1|\n",
      "|        250|    2|\n",
      "|       2100|    3|\n",
      "|        160|    1|\n",
      "|       2000|    3|\n",
      "|          0|    2|\n",
      "|        195|    1|\n",
      "|       null| 7025|\n",
      "|        850|    1|\n",
      "|        300|    4|\n",
      "|        401|    1|\n",
      "|        815|    1|\n",
      "+-----------+-----+\n",
      "only showing top 20 rows\n",
      "\n"
     ]
    }
   ],
   "source": [
    "airbnbDF.select('square_feet', 'price','weekly_price', 'monthly_price', 'security_deposit').show(5)\n",
    "\n",
    "# The most of values are null, we do not need it.\n",
    "airbnbDF.groupby('square_feet').count().show()"
   ]
  },
  {
   "cell_type": "code",
   "execution_count": 54,
   "metadata": {},
   "outputs": [
    {
     "name": "stdout",
     "output_type": "stream",
     "text": [
      "+------------+---------------+------------+\n",
      "|cleaning_fee|guests_included|extra_people|\n",
      "+------------+---------------+------------+\n",
      "|     $100.00|              2|      $25.00|\n",
      "|     $100.00|              2|       $0.00|\n",
      "|      $50.00|              1|      $12.00|\n",
      "|      $50.00|              1|      $12.00|\n",
      "|     $225.00|              2|     $150.00|\n",
      "+------------+---------------+------------+\n",
      "only showing top 5 rows\n",
      "\n"
     ]
    }
   ],
   "source": [
    "airbnbDF.select('cleaning_fee', 'guests_included', 'extra_people').show(5)"
   ]
  },
  {
   "cell_type": "code",
   "execution_count": 55,
   "metadata": {},
   "outputs": [
    {
     "name": "stdout",
     "output_type": "stream",
     "text": [
      "+--------------+--------------+----------------------+\n",
      "|minimum_nights|maximum_nights|minimum_minimum_nights|\n",
      "+--------------+--------------+----------------------+\n",
      "|             1|            30|                     1|\n",
      "|            30|            60|                    30|\n",
      "|            32|            60|                    32|\n",
      "|            32|            90|                    32|\n",
      "|             7|          1125|                     7|\n",
      "|             2|           365|                     2|\n",
      "|             1|            14|                     1|\n",
      "|             1|           365|                     1|\n",
      "|             3|            30|                     3|\n",
      "|            30|          1125|                    30|\n",
      "|            30|          1125|                    30|\n",
      "|            30|           365|                    30|\n",
      "|            32|            60|                    32|\n",
      "|            32|            90|                    32|\n",
      "|             3|            27|                     3|\n",
      "|            30|           800|                    30|\n",
      "|             3|            10|                     3|\n",
      "|            90|           365|                    90|\n",
      "|            30|           365|                    30|\n",
      "|             2|            29|                     2|\n",
      "+--------------+--------------+----------------------+\n",
      "only showing top 20 rows\n",
      "\n"
     ]
    }
   ],
   "source": [
    "airbnbDF.select('minimum_nights', 'maximum_nights', 'minimum_minimum_nights').show()"
   ]
  },
  {
   "cell_type": "code",
   "execution_count": 56,
   "metadata": {},
   "outputs": [
    {
     "name": "stdout",
     "output_type": "stream",
     "text": [
      "+----------------+----------------+---------------------+\n",
      "|calendar_updated|has_availability|calendar_last_scraped|\n",
      "+----------------+----------------+---------------------+\n",
      "|           today|               t|           2019-03-06|\n",
      "|    3 months ago|               t|           2019-03-06|\n",
      "|   16 months ago|               t|           2019-03-06|\n",
      "|   16 months ago|               t|           2019-03-06|\n",
      "|    3 months ago|               t|           2019-03-06|\n",
      "+----------------+----------------+---------------------+\n",
      "only showing top 5 rows\n",
      "\n"
     ]
    }
   ],
   "source": [
    "airbnbDF.select('calendar_updated', 'has_availability', 'calendar_last_scraped').show(5)"
   ]
  },
  {
   "cell_type": "code",
   "execution_count": 57,
   "metadata": {},
   "outputs": [
    {
     "name": "stdout",
     "output_type": "stream",
     "text": [
      "+-----------------+---------------------+\n",
      "|number_of_reviews|number_of_reviews_ltm|\n",
      "+-----------------+---------------------+\n",
      "|              180|                   52|\n",
      "|              111|                    0|\n",
      "|               17|                    0|\n",
      "|                8|                    1|\n",
      "|               27|                    1|\n",
      "+-----------------+---------------------+\n",
      "only showing top 5 rows\n",
      "\n"
     ]
    }
   ],
   "source": [
    "airbnbDF.select('number_of_reviews', 'number_of_reviews_ltm').show(5)"
   ]
  },
  {
   "cell_type": "code",
   "execution_count": 58,
   "metadata": {},
   "outputs": [
    {
     "name": "stdout",
     "output_type": "stream",
     "text": [
      "+------------+-----------+--------------------+---------------------+----------------------+\n",
      "|first_review|last_review|review_scores_rating|review_scores_checkin|review_scores_accuracy|\n",
      "+------------+-----------+--------------------+---------------------+----------------------+\n",
      "|  2009-07-23| 2019-02-17|                  97|                   10|                    10|\n",
      "|  2009-05-03| 2017-08-06|                  98|                   10|                    10|\n",
      "|  2009-08-31| 2016-11-21|                  85|                    9|                     8|\n",
      "|  2014-09-08| 2018-09-12|                  93|                   10|                     9|\n",
      "|  2009-09-25| 2018-08-11|                  97|                   10|                    10|\n",
      "+------------+-----------+--------------------+---------------------+----------------------+\n",
      "only showing top 5 rows\n",
      "\n"
     ]
    }
   ],
   "source": [
    "airbnbDF.select('first_review', 'last_review', 'review_scores_rating', \n",
    "                'review_scores_checkin','review_scores_accuracy').show(5)"
   ]
  },
  {
   "cell_type": "code",
   "execution_count": 59,
   "metadata": {},
   "outputs": [
    {
     "name": "stdout",
     "output_type": "stream",
     "text": [
      "+----------------+-----------+------------------+----------------+\n",
      "|requires_license|    license|jurisdiction_names|instant_bookable|\n",
      "+----------------+-----------+------------------+----------------+\n",
      "|               t|STR-0001256| {\"SAN FRANCISCO\"}|               t|\n",
      "|               t|       null| {\"SAN FRANCISCO\"}|               f|\n",
      "|               t|       null| {\"SAN FRANCISCO\"}|               f|\n",
      "|               t|       null| {\"SAN FRANCISCO\"}|               f|\n",
      "|               t|STR-0000264| {\"SAN FRANCISCO\"}|               f|\n",
      "+----------------+-----------+------------------+----------------+\n",
      "only showing top 5 rows\n",
      "\n"
     ]
    }
   ],
   "source": [
    "airbnbDF.select('requires_license', 'license', 'jurisdiction_names', 'instant_bookable').show(5)"
   ]
  },
  {
   "cell_type": "code",
   "execution_count": 60,
   "metadata": {},
   "outputs": [
    {
     "name": "stdout",
     "output_type": "stream",
     "text": [
      "+------------------------+\n",
      "|is_business_travel_ready|\n",
      "+------------------------+\n",
      "|                       f|\n",
      "+------------------------+\n",
      "\n"
     ]
    }
   ],
   "source": [
    "airbnbDF.select('is_business_travel_ready').distinct().show()"
   ]
  },
  {
   "cell_type": "code",
   "execution_count": 61,
   "metadata": {},
   "outputs": [
    {
     "name": "stdout",
     "output_type": "stream",
     "text": [
      "+--------------------+-----------------------------+--------------------------------+\n",
      "| cancellation_policy|require_guest_profile_picture|require_guest_phone_verification|\n",
      "+--------------------+-----------------------------+--------------------------------+\n",
      "|            moderate|                            f|                               f|\n",
      "|strict_14_with_gr...|                            f|                               f|\n",
      "|strict_14_with_gr...|                            f|                               f|\n",
      "|strict_14_with_gr...|                            f|                               f|\n",
      "|strict_14_with_gr...|                            t|                               t|\n",
      "+--------------------+-----------------------------+--------------------------------+\n",
      "only showing top 5 rows\n",
      "\n"
     ]
    }
   ],
   "source": [
    "airbnbDF.select('cancellation_policy', 'require_guest_profile_picture',\n",
    "               'require_guest_phone_verification').show(5)"
   ]
  },
  {
   "cell_type": "code",
   "execution_count": 62,
   "metadata": {},
   "outputs": [
    {
     "name": "stdout",
     "output_type": "stream",
     "text": [
      "+------------------------------+\n",
      "|calculated_host_listings_count|\n",
      "+------------------------------+\n",
      "|                             1|\n",
      "|                             1|\n",
      "|                             9|\n",
      "|                             9|\n",
      "|                             2|\n",
      "+------------------------------+\n",
      "only showing top 5 rows\n",
      "\n"
     ]
    }
   ],
   "source": [
    "airbnbDF.select('calculated_host_listings_count').show(5)"
   ]
  },
  {
   "cell_type": "code",
   "execution_count": 63,
   "metadata": {},
   "outputs": [
    {
     "name": "stdout",
     "output_type": "stream",
     "text": [
      "+-----------------+\n",
      "|reviews_per_month|\n",
      "+-----------------+\n",
      "|             1.54|\n",
      "|             0.93|\n",
      "|             0.15|\n",
      "|             0.15|\n",
      "|             0.23|\n",
      "+-----------------+\n",
      "only showing top 5 rows\n",
      "\n"
     ]
    }
   ],
   "source": [
    "airbnbDF.select('reviews_per_month').show(5)"
   ]
  },
  {
   "cell_type": "code",
   "execution_count": 64,
   "metadata": {},
   "outputs": [],
   "source": [
    "col_removed = ['id','last_scraped', 'name','listing_url', 'scrape_id', 'experiences_offered', 'notes','interaction' \n",
    "               , 'thumbnail_url', 'medium_url', 'picture_url', 'xl_picture_url','host_id' ,'host_url', 'host_name'\n",
    "               , 'host_location', 'host_about', 'host_acceptance_rate', 'host_thumbnail_url','host_listings_count'\n",
    "               , 'host_picture_url', 'street', 'neighbourhood_group_cleansed', 'neighbourhood'\n",
    "               , 'city', 'state', 'market', 'smart_location', 'country_code', 'country', 'latitude','longitude'\n",
    "               , 'is_location_exact', 'bed_type', 'square_feet' ,'weekly_price', 'monthly_price'\n",
    "               , 'minimum_nights', 'maximum_nights', 'minimum_minimum_nights', 'maximum_minimum_nights'\n",
    "              , 'minimum_maximum_nights', 'maximum_maximum_nights', 'minimum_nights_avg_ntm'\n",
    "              , 'maximum_nights_avg_ntm', 'calendar_updated', 'has_availability'\n",
    "              , 'availability_30', 'availability_60', 'availability_90', 'availability_365'\n",
    "              , 'first_review', 'last_review', 'requires_license', 'jurisdiction_names'\n",
    "              , 'is_business_travel_ready','calendar_last_scraped'\n",
    "              , 'calculated_host_listings_count_entire_homes', 'calculated_host_listings_count_private_rooms'\n",
    "              , 'calculated_host_listings_count_shared_rooms', 'reviews_per_month']"
   ]
  },
  {
   "cell_type": "code",
   "execution_count": 65,
   "metadata": {},
   "outputs": [],
   "source": [
    "cleaned_df =airbnbDF.drop(*col_removed) "
   ]
  },
  {
   "cell_type": "code",
   "execution_count": 66,
   "metadata": {},
   "outputs": [
    {
     "name": "stdout",
     "output_type": "stream",
     "text": [
      "root\n",
      " |-- summary: string (nullable = true)\n",
      " |-- space: string (nullable = true)\n",
      " |-- description: string (nullable = true)\n",
      " |-- neighborhood_overview: string (nullable = true)\n",
      " |-- transit: string (nullable = true)\n",
      " |-- access: string (nullable = true)\n",
      " |-- house_rules: string (nullable = true)\n",
      " |-- host_since: string (nullable = true)\n",
      " |-- host_response_time: string (nullable = true)\n",
      " |-- host_response_rate: string (nullable = true)\n",
      " |-- host_is_superhost: string (nullable = true)\n",
      " |-- host_neighbourhood: string (nullable = true)\n",
      " |-- host_total_listings_count: string (nullable = true)\n",
      " |-- host_verifications: string (nullable = true)\n",
      " |-- host_has_profile_pic: string (nullable = true)\n",
      " |-- host_identity_verified: string (nullable = true)\n",
      " |-- neighbourhood_cleansed: string (nullable = true)\n",
      " |-- zipcode: string (nullable = true)\n",
      " |-- property_type: string (nullable = true)\n",
      " |-- room_type: string (nullable = true)\n",
      " |-- accommodates: string (nullable = true)\n",
      " |-- bathrooms: string (nullable = true)\n",
      " |-- bedrooms: string (nullable = true)\n",
      " |-- beds: string (nullable = true)\n",
      " |-- amenities: string (nullable = true)\n",
      " |-- price: string (nullable = true)\n",
      " |-- security_deposit: string (nullable = true)\n",
      " |-- cleaning_fee: string (nullable = true)\n",
      " |-- guests_included: string (nullable = true)\n",
      " |-- extra_people: string (nullable = true)\n",
      " |-- number_of_reviews: string (nullable = true)\n",
      " |-- number_of_reviews_ltm: string (nullable = true)\n",
      " |-- review_scores_rating: string (nullable = true)\n",
      " |-- review_scores_accuracy: string (nullable = true)\n",
      " |-- review_scores_cleanliness: string (nullable = true)\n",
      " |-- review_scores_checkin: string (nullable = true)\n",
      " |-- review_scores_communication: string (nullable = true)\n",
      " |-- review_scores_location: string (nullable = true)\n",
      " |-- review_scores_value: string (nullable = true)\n",
      " |-- license: string (nullable = true)\n",
      " |-- instant_bookable: string (nullable = true)\n",
      " |-- cancellation_policy: string (nullable = true)\n",
      " |-- require_guest_profile_picture: string (nullable = true)\n",
      " |-- require_guest_phone_verification: string (nullable = true)\n",
      " |-- calculated_host_listings_count: string (nullable = true)\n",
      "\n"
     ]
    }
   ],
   "source": [
    "cleaned_df.printSchema()"
   ]
  },
  {
   "cell_type": "markdown",
   "metadata": {},
   "source": [
    "<h2>Play with some columns</h2>"
   ]
  },
  {
   "cell_type": "code",
   "execution_count": 67,
   "metadata": {},
   "outputs": [
    {
     "name": "stdout",
     "output_type": "stream",
     "text": [
      "+-------+\n",
      "|  price|\n",
      "+-------+\n",
      "|$170.00|\n",
      "|$235.00|\n",
      "| $65.00|\n",
      "| $65.00|\n",
      "|$785.00|\n",
      "+-------+\n",
      "only showing top 5 rows\n",
      "\n"
     ]
    }
   ],
   "source": [
    "airbnbDF.select('price').show(5)"
   ]
  },
  {
   "cell_type": "code",
   "execution_count": 68,
   "metadata": {},
   "outputs": [],
   "source": [
    "def remove_dollar(row):\n",
    "    \n",
    "    '''\n",
    "    input : string , e.g. $170.00\n",
    "    output : double, e.g. 170.00\n",
    "    '''\n",
    "    \n",
    "    new_string = row[1:]\n",
    "    \n",
    "    return float(new_string)\n",
    "\n",
    "remove_dollar_udf = F.udf(remove_dollar, DoubleType())"
   ]
  },
  {
   "cell_type": "code",
   "execution_count": 69,
   "metadata": {},
   "outputs": [
    {
     "name": "stdout",
     "output_type": "stream",
     "text": [
      "+-------------+\n",
      "|price_cleaned|\n",
      "+-------------+\n",
      "|        170.0|\n",
      "|        235.0|\n",
      "|         65.0|\n",
      "|         65.0|\n",
      "|        785.0|\n",
      "+-------------+\n",
      "only showing top 5 rows\n",
      "\n",
      "CPU times: user 4.39 ms, sys: 0 ns, total: 4.39 ms\n",
      "Wall time: 696 ms\n"
     ]
    }
   ],
   "source": [
    "%%time\n",
    "cleaned_df.withColumn('price_cleaned', F.regexp_replace('price','[$]', '').cast(DoubleType()))\\\n",
    "            .select('price_cleaned').show(5)"
   ]
  },
  {
   "cell_type": "code",
   "execution_count": 70,
   "metadata": {},
   "outputs": [
    {
     "name": "stdout",
     "output_type": "stream",
     "text": [
      "+-------------+\n",
      "|price_cleaned|\n",
      "+-------------+\n",
      "|        170.0|\n",
      "|        235.0|\n",
      "|         65.0|\n",
      "|         65.0|\n",
      "|        785.0|\n",
      "+-------------+\n",
      "only showing top 5 rows\n",
      "\n",
      "CPU times: user 8.86 ms, sys: 0 ns, total: 8.86 ms\n",
      "Wall time: 2.32 s\n"
     ]
    }
   ],
   "source": [
    "%%time\n",
    "\n",
    "cleaned_df.withColumn('price_cleaned', remove_dollar_udf('price')).select('price_cleaned').show(5)"
   ]
  },
  {
   "cell_type": "code",
   "execution_count": 71,
   "metadata": {},
   "outputs": [],
   "source": [
    "# remove $ and % from prices & percents\n",
    "# I used regexp_replace function to remove $ and %\n",
    "\n",
    "price_cols = ['price', 'security_deposit', 'cleaning_fee', 'extra_people', 'host_response_rate']\n",
    "\n",
    "for col in price_cols:\n",
    "    \n",
    "        cleaned_df = cleaned_df.withColumn(col, F.regexp_replace(col,'[$, %]', '').cast(DoubleType()))"
   ]
  },
  {
   "cell_type": "code",
   "execution_count": 72,
   "metadata": {},
   "outputs": [
    {
     "name": "stdout",
     "output_type": "stream",
     "text": [
      "+-----+----------------+------------+------------+------------------+\n",
      "|price|security_deposit|cleaning_fee|extra_people|host_response_rate|\n",
      "+-----+----------------+------------+------------+------------------+\n",
      "|170.0|           100.0|       100.0|        25.0|             100.0|\n",
      "|235.0|            null|       100.0|         0.0|              80.0|\n",
      "| 65.0|           200.0|        50.0|        12.0|             100.0|\n",
      "| 65.0|           200.0|        50.0|        12.0|             100.0|\n",
      "|785.0|             0.0|       225.0|       150.0|             100.0|\n",
      "+-----+----------------+------------+------------+------------------+\n",
      "only showing top 5 rows\n",
      "\n"
     ]
    }
   ],
   "source": [
    "cleaned_df.select(price_cols).show(5)"
   ]
  },
  {
   "cell_type": "code",
   "execution_count": 73,
   "metadata": {},
   "outputs": [
    {
     "name": "stdout",
     "output_type": "stream",
     "text": [
      "+------------------+\n",
      "|host_response_time|\n",
      "+------------------+\n",
      "|a few days or more|\n",
      "|      within a day|\n",
      "|within a few hours|\n",
      "|               N/A|\n",
      "|    within an hour|\n",
      "+------------------+\n",
      "\n"
     ]
    }
   ],
   "source": [
    "# Host response time \n",
    "cleaned_df.select('host_response_time').distinct().show()\n",
    "\n",
    "'''\n",
    "'a few days or more', 'N/A' : bad -> score 0\n",
    "'within a day': intermediate -> score 1\n",
    "'within an hour', within a few hours: good -> score 2\n",
    "'''\n",
    "\n",
    "response_time_dict = {\n",
    "    'a few days or more': 0,\n",
    "    'N/A':0,\n",
    "    'within a day':1,\n",
    "    'within a few hours':2,\n",
    "    'within an hour':2\n",
    "}\n",
    "\n",
    "\n",
    "def cat_response_time(row):\n",
    "    \n",
    "    return response_time_dict[row]\n",
    "\n",
    "cat_response_time_udf = F.udf(cat_response_time, IntegerType())"
   ]
  },
  {
   "cell_type": "code",
   "execution_count": 74,
   "metadata": {},
   "outputs": [],
   "source": [
    "cleaned_df = cleaned_df.withColumn('host_response_time', cat_response_time_udf('host_response_time'))"
   ]
  },
  {
   "cell_type": "code",
   "execution_count": 75,
   "metadata": {},
   "outputs": [],
   "source": [
    "double_cols = ['host_total_listings_count', 'accommodates', 'bathrooms', 'bedrooms', 'beds',\n",
    "              'guests_included', 'guests_included', 'number_of_reviews', 'number_of_reviews_ltm',\n",
    "              'review_scores_rating', 'review_scores_accuracy', 'review_scores_cleanliness',\n",
    "              'review_scores_checkin', 'review_scores_communication', 'review_scores_location',\n",
    "              'review_scores_value', 'calculated_host_listings_count']"
   ]
  },
  {
   "cell_type": "code",
   "execution_count": 76,
   "metadata": {},
   "outputs": [],
   "source": [
    "# Change to double-type columns\n",
    "\n",
    "for col in double_cols:\n",
    "    \n",
    "    cleaned_df = cleaned_df.withColumn(col, F.col(col).cast(DoubleType()))"
   ]
  },
  {
   "cell_type": "code",
   "execution_count": 77,
   "metadata": {},
   "outputs": [
    {
     "name": "stdout",
     "output_type": "stream",
     "text": [
      "root\n",
      " |-- summary: string (nullable = true)\n",
      " |-- space: string (nullable = true)\n",
      " |-- description: string (nullable = true)\n",
      " |-- neighborhood_overview: string (nullable = true)\n",
      " |-- transit: string (nullable = true)\n",
      " |-- access: string (nullable = true)\n",
      " |-- house_rules: string (nullable = true)\n",
      " |-- host_since: string (nullable = true)\n",
      " |-- host_response_time: integer (nullable = true)\n",
      " |-- host_response_rate: double (nullable = true)\n",
      " |-- host_is_superhost: string (nullable = true)\n",
      " |-- host_neighbourhood: string (nullable = true)\n",
      " |-- host_total_listings_count: double (nullable = true)\n",
      " |-- host_verifications: string (nullable = true)\n",
      " |-- host_has_profile_pic: string (nullable = true)\n",
      " |-- host_identity_verified: string (nullable = true)\n",
      " |-- neighbourhood_cleansed: string (nullable = true)\n",
      " |-- zipcode: string (nullable = true)\n",
      " |-- property_type: string (nullable = true)\n",
      " |-- room_type: string (nullable = true)\n",
      " |-- accommodates: double (nullable = true)\n",
      " |-- bathrooms: double (nullable = true)\n",
      " |-- bedrooms: double (nullable = true)\n",
      " |-- beds: double (nullable = true)\n",
      " |-- amenities: string (nullable = true)\n",
      " |-- price: double (nullable = true)\n",
      " |-- security_deposit: double (nullable = true)\n",
      " |-- cleaning_fee: double (nullable = true)\n",
      " |-- guests_included: double (nullable = true)\n",
      " |-- extra_people: double (nullable = true)\n",
      " |-- number_of_reviews: double (nullable = true)\n",
      " |-- number_of_reviews_ltm: double (nullable = true)\n",
      " |-- review_scores_rating: double (nullable = true)\n",
      " |-- review_scores_accuracy: double (nullable = true)\n",
      " |-- review_scores_cleanliness: double (nullable = true)\n",
      " |-- review_scores_checkin: double (nullable = true)\n",
      " |-- review_scores_communication: double (nullable = true)\n",
      " |-- review_scores_location: double (nullable = true)\n",
      " |-- review_scores_value: double (nullable = true)\n",
      " |-- license: string (nullable = true)\n",
      " |-- instant_bookable: string (nullable = true)\n",
      " |-- cancellation_policy: string (nullable = true)\n",
      " |-- require_guest_profile_picture: string (nullable = true)\n",
      " |-- require_guest_phone_verification: string (nullable = true)\n",
      " |-- calculated_host_listings_count: double (nullable = true)\n",
      "\n"
     ]
    }
   ],
   "source": [
    "cleaned_df.printSchema()"
   ]
  },
  {
   "cell_type": "markdown",
   "metadata": {},
   "source": [
    "<h3>I did this here because the price column is numerical now</h3>"
   ]
  },
  {
   "cell_type": "code",
   "execution_count": 88,
   "metadata": {},
   "outputs": [
    {
     "data": {
      "text/plain": [
       "<matplotlib.axes._subplots.AxesSubplot at 0x7fb7fe2c5790>"
      ]
     },
     "execution_count": 88,
     "metadata": {},
     "output_type": "execute_result"
    },
    {
     "data": {
      "image/png": "[encoded data removed]",
      "text/plain": [
       "<Figure size 1152x648 with 1 Axes>"
      ]
     },
     "metadata": {
      "needs_background": "light"
     },
     "output_type": "display_data"
    }
   ],
   "source": [
    "# To check the relation between property types and price\n",
    "\n",
    "property_df = cleaned_df.select('property_type', 'price').toPandas()\n",
    "\n",
    "fig, ax = plt.subplots(figsize=(16,9))\n",
    "plt.xticks(rotation=30)\n",
    "\n",
    "sns.boxplot(x='property_type', y='price', data=property_df, ax=ax)"
   ]
  },
  {
   "cell_type": "code",
   "execution_count": 89,
   "metadata": {},
   "outputs": [],
   "source": [
    "cleaned_df = cleaned_df.drop('property_type')"
   ]
  },
  {
   "cell_type": "code",
   "execution_count": 91,
   "metadata": {},
   "outputs": [
    {
     "data": {
      "text/plain": [
       "{'summary': 200,\n",
       " 'space': 1075,\n",
       " 'description': 21,\n",
       " 'neighborhood_overview': 1902,\n",
       " 'transit': 2020,\n",
       " 'access': 2386,\n",
       " 'house_rules': 1922,\n",
       " 'host_since': 0,\n",
       " 'host_response_time': 0,\n",
       " 'host_response_rate': 725,\n",
       " 'host_is_superhost': 0,\n",
       " 'host_neighbourhood': 642,\n",
       " 'host_total_listings_count': 0,\n",
       " 'host_verifications': 0,\n",
       " 'host_has_profile_pic': 0,\n",
       " 'host_identity_verified': 0,\n",
       " 'neighbourhood_cleansed': 0,\n",
       " 'zipcode': 205,\n",
       " 'room_type': 0,\n",
       " 'accommodates': 0,\n",
       " 'bathrooms': 21,\n",
       " 'bedrooms': 2,\n",
       " 'beds': 7,\n",
       " 'amenities': 0,\n",
       " 'price': 0,\n",
       " 'security_deposit': 1469,\n",
       " 'cleaning_fee': 802,\n",
       " 'guests_included': 0,\n",
       " 'extra_people': 0,\n",
       " 'number_of_reviews': 0,\n",
       " 'number_of_reviews_ltm': 0,\n",
       " 'review_scores_rating': 1421,\n",
       " 'review_scores_accuracy': 1425,\n",
       " 'review_scores_cleanliness': 1424,\n",
       " 'review_scores_checkin': 1427,\n",
       " 'review_scores_communication': 1423,\n",
       " 'review_scores_location': 1427,\n",
       " 'review_scores_value': 1428,\n",
       " 'license': 2550,\n",
       " 'instant_bookable': 0,\n",
       " 'cancellation_policy': 0,\n",
       " 'require_guest_profile_picture': 0,\n",
       " 'require_guest_phone_verification': 0,\n",
       " 'calculated_host_listings_count': 0}"
      ]
     },
     "execution_count": 91,
     "metadata": {},
     "output_type": "execute_result"
    }
   ],
   "source": [
    "# Null value check\n",
    "null_dict = dict()\n",
    "\n",
    "for col in cleaned_df.columns:\n",
    "    null_dict[col] = cleaned_df.select(col).where(F.col(col).isNull()).count()\n",
    "    \n",
    "null_dict"
   ]
  },
  {
   "cell_type": "code",
   "execution_count": 92,
   "metadata": {},
   "outputs": [],
   "source": [
    "'''\n",
    "Parquet is a columnar format that is supported by many other data processing\n",
    "systems. Spark SQL provides support for both reading and writing Parquet files that automatically\n",
    "preseves the schema of the original data (spark.apache.org)\n",
    "'''\n",
    "\n",
    "cleaned_df.write.format('parquet') \\\n",
    "    .mode('overwrite') \\\n",
    "    .option('compression', 'snappy')\\\n",
    "    .save('data/sf-airbnb/parquet')"
   ]
  }
 ],
 "metadata": {
  "kernelspec": {
   "display_name": "Python 3",
   "language": "python",
   "name": "python3"
  },
  "language_info": {
   "codemirror_mode": {
    "name": "ipython",
    "version": 3
   },
   "file_extension": ".py",
   "mimetype": "text/x-python",
   "name": "python",
   "nbconvert_exporter": "python",
   "pygments_lexer": "ipython3",
   "version": "3.8.3"
  }
 },
 "nbformat": 4,
 "nbformat_minor": 4
}
