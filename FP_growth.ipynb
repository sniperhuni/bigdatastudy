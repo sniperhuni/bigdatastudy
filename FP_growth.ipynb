{
 "cells": [
  {
   "cell_type": "code",
   "execution_count": 1,
   "metadata": {},
   "outputs": [],
   "source": [
    "import findspark\n",
    "findspark.init()"
   ]
  },
  {
   "cell_type": "code",
   "execution_count": 2,
   "metadata": {},
   "outputs": [],
   "source": [
    "from pyspark.sql import SparkSession"
   ]
  },
  {
   "cell_type": "code",
   "execution_count": 20,
   "metadata": {},
   "outputs": [],
   "source": [
    "import pyspark.sql.functions as F"
   ]
  },
  {
   "cell_type": "code",
   "execution_count": 3,
   "metadata": {},
   "outputs": [],
   "source": [
    "spark = SparkSession.builder.appName('FP-Growth').getOrCreate()"
   ]
  },
  {
   "cell_type": "code",
   "execution_count": 6,
   "metadata": {},
   "outputs": [
    {
     "name": "stdout",
     "output_type": "stream",
     "text": [
      "+----------+--------------------+--------+-------------+\n",
      "|product_id|        product_name|aisle_id|department_id|\n",
      "+----------+--------------------+--------+-------------+\n",
      "|         1|Chocolate Sandwic...|      61|           19|\n",
      "|         2|    All-Seasons Salt|     104|           13|\n",
      "|         3|Robust Golden Uns...|      94|            7|\n",
      "|         4|Smart Ones Classi...|      38|            1|\n",
      "|         5|Green Chile Anyti...|       5|           13|\n",
      "+----------+--------------------+--------+-------------+\n",
      "only showing top 5 rows\n",
      "\n"
     ]
    }
   ],
   "source": [
    "# import intercart Order dataset\n",
    "\n",
    "# the list of products\n",
    "products = spark.read.csv('data/products.csv', header=True, inferSchema=True)\n",
    "\n",
    "products.show(5)"
   ]
  },
  {
   "cell_type": "code",
   "execution_count": 7,
   "metadata": {},
   "outputs": [
    {
     "name": "stdout",
     "output_type": "stream",
     "text": [
      "root\n",
      " |-- product_id: integer (nullable = true)\n",
      " |-- product_name: string (nullable = true)\n",
      " |-- aisle_id: string (nullable = true)\n",
      " |-- department_id: string (nullable = true)\n",
      "\n"
     ]
    }
   ],
   "source": [
    "products.printSchema()"
   ]
  },
  {
   "cell_type": "code",
   "execution_count": 16,
   "metadata": {},
   "outputs": [
    {
     "name": "stdout",
     "output_type": "stream",
     "text": [
      "+--------+----------+-----------------+---------+\n",
      "|order_id|product_id|add_to_cart_order|reordered|\n",
      "+--------+----------+-----------------+---------+\n",
      "|       1|     49302|                1|        1|\n",
      "|       1|     11109|                2|        1|\n",
      "|       1|     10246|                3|        0|\n",
      "|       1|     49683|                4|        0|\n",
      "|       1|     43633|                5|        1|\n",
      "+--------+----------+-----------------+---------+\n",
      "only showing top 5 rows\n",
      "\n"
     ]
    }
   ],
   "source": [
    "# order information\n",
    "orders = spark.read.csv('data/order_products_train.csv', header=True, inferSchema=True)\n",
    "\n",
    "orders.show(5)"
   ]
  },
  {
   "cell_type": "code",
   "execution_count": 17,
   "metadata": {},
   "outputs": [
    {
     "name": "stdout",
     "output_type": "stream",
     "text": [
      "root\n",
      " |-- order_id: integer (nullable = true)\n",
      " |-- product_id: integer (nullable = true)\n",
      " |-- add_to_cart_order: integer (nullable = true)\n",
      " |-- reordered: integer (nullable = true)\n",
      "\n"
     ]
    }
   ],
   "source": [
    "orders.printSchema()"
   ]
  },
  {
   "cell_type": "code",
   "execution_count": 18,
   "metadata": {},
   "outputs": [
    {
     "name": "stdout",
     "output_type": "stream",
     "text": [
      "+----------+--------+-----------------+---------+--------------------+--------+-------------+\n",
      "|product_id|order_id|add_to_cart_order|reordered|        product_name|aisle_id|department_id|\n",
      "+----------+--------+-----------------+---------+--------------------+--------+-------------+\n",
      "|     49302|       1|                1|        1|    Bulgarian Yogurt|     120|           16|\n",
      "|     11109|       1|                2|        1|Organic 4% Milk F...|     108|           16|\n",
      "|     10246|       1|                3|        0|Organic Celery He...|      83|            4|\n",
      "|     49683|       1|                4|        0|      Cucumber Kirby|      83|            4|\n",
      "|     43633|       1|                5|        1|Lightly Smoked Sa...|      95|           15|\n",
      "+----------+--------+-----------------+---------+--------------------+--------+-------------+\n",
      "only showing top 5 rows\n",
      "\n"
     ]
    }
   ],
   "source": [
    "# Order with product name by join function\n",
    "order_with_name = orders.join(products, 'product_id')\n",
    "\n",
    "order_with_name.show(5)"
   ]
  },
  {
   "cell_type": "code",
   "execution_count": 24,
   "metadata": {},
   "outputs": [
    {
     "name": "stdout",
     "output_type": "stream",
     "text": [
      "+--------+--------------------+\n",
      "|order_id|               items|\n",
      "+--------+--------------------+\n",
      "|    1342|[13176, 30827, 14...|\n",
      "|    1591|[17203, 44008, 48...|\n",
      "|    4519|             [29270]|\n",
      "|    4935|             [45190]|\n",
      "|    6357|[37524, 33731, 43...|\n",
      "+--------+--------------------+\n",
      "only showing top 5 rows\n",
      "\n"
     ]
    },
    {
     "data": {
      "text/plain": [
       "DataFrame[order_id: int, items: array<int>]"
      ]
     },
     "execution_count": 24,
     "metadata": {},
     "output_type": "execute_result"
    }
   ],
   "source": [
    "orders_df = order_with_name.groupby('order_id').agg(F.collect_list('product_id').alias('items'))\n",
    "\n",
    "orders_df.show(5)\n",
    "orders_df.cache()"
   ]
  },
  {
   "cell_type": "code",
   "execution_count": 22,
   "metadata": {},
   "outputs": [],
   "source": [
    "# import MLlib ; FPGrowth\n",
    "from pyspark.ml.fpm import FPGrowth"
   ]
  },
  {
   "cell_type": "code",
   "execution_count": 31,
   "metadata": {},
   "outputs": [],
   "source": [
    "fpGrowth = FPGrowth(itemsCol='items', minSupport=0.001, minConfidence=0.5)"
   ]
  },
  {
   "cell_type": "code",
   "execution_count": 32,
   "metadata": {},
   "outputs": [],
   "source": [
    "model = fpGrowth.fit(orders_df)"
   ]
  },
  {
   "cell_type": "code",
   "execution_count": 28,
   "metadata": {},
   "outputs": [
    {
     "name": "stdout",
     "output_type": "stream",
     "text": [
      "+--------------+-----+\n",
      "|         items| freq|\n",
      "+--------------+-----+\n",
      "|       [24852]|18726|\n",
      "|       [13176]|15480|\n",
      "|       [21137]|10894|\n",
      "|[21137, 13176]| 3074|\n",
      "|[21137, 24852]| 2174|\n",
      "|       [21903]| 9784|\n",
      "|[21903, 21137]| 1639|\n",
      "|[21903, 13176]| 2236|\n",
      "|[21903, 24852]| 2000|\n",
      "|       [47626]| 8135|\n",
      "+--------------+-----+\n",
      "only showing top 10 rows\n",
      "\n"
     ]
    }
   ],
   "source": [
    "model.freqItemsets.show(10)"
   ]
  },
  {
   "cell_type": "code",
   "execution_count": 33,
   "metadata": {},
   "outputs": [
    {
     "name": "stdout",
     "output_type": "stream",
     "text": [
      "+--------------------+----------+------------------+------------------+\n",
      "|          antecedent|consequent|        confidence|              lift|\n",
      "+--------------------+----------+------------------+------------------+\n",
      "|       [4605, 16797]|   [24852]|0.5357142857142857|3.7536332219526702|\n",
      "|[27966, 47209, 21...|   [13176]|0.5984251968503937| 5.072272070642333|\n",
      "|       [9839, 47209]|   [13176]|0.5048231511254019| 4.278897986822536|\n",
      "|       [8174, 47209]|   [13176]|0.5283018867924528| 4.477904539027839|\n",
      "|      [22825, 47209]|   [13176]|0.5170454545454546|4.3824946411792345|\n",
      "|      [39928, 47209]|   [13176]|0.5459770114942529| 4.627719489738336|\n",
      "|       [8174, 27966]|   [13176]|0.5412186379928315| 4.587387356098284|\n",
      "|[30391, 47209, 21...|   [13176]|          0.546875| 4.635330870478036|\n",
      "|      [27966, 47209]|   [13176]| 0.521099116781158| 4.416853618458589|\n",
      "|      [35951, 47209]|   [13176]|0.5141065830721003| 4.357584667849303|\n",
      "|      [22035, 47209]|   [13176]|0.5314685314685315| 4.504745125675359|\n",
      "+--------------------+----------+------------------+------------------+\n",
      "\n"
     ]
    }
   ],
   "source": [
    "model.associationRules.show()"
   ]
  },
  {
   "cell_type": "code",
   "execution_count": 35,
   "metadata": {},
   "outputs": [
    {
     "name": "stdout",
     "output_type": "stream",
     "text": [
      "+--------+--------------------+----------+\n",
      "|order_id|               items|prediction|\n",
      "+--------+--------------------+----------+\n",
      "|    1342|[13176, 30827, 14...|        []|\n",
      "|    1591|[17203, 44008, 48...|        []|\n",
      "|    4519|             [29270]|        []|\n",
      "|    4935|             [45190]|        []|\n",
      "|    6357|[37524, 33731, 43...|        []|\n",
      "|   10362|[22451, 46823, 47...|        []|\n",
      "|   19204|[25783, 26165, 45...|        []|\n",
      "|   29601|[4472, 44329, 271...|        []|\n",
      "|   31035|[13176, 8174, 407...|        []|\n",
      "|   40011|[27292, 7905, 219...|        []|\n",
      "|   46266|[23029, 38558, 34...|        []|\n",
      "|   51607|[41390, 42752, 14...|        []|\n",
      "|   58797|[13176, 3265, 983...|        []|\n",
      "|   61793|[43352, 8859, 196...|        []|\n",
      "|   67089|[24852, 47766, 27...|        []|\n",
      "|   70863|[34791, 42049, 17...|        []|\n",
      "|   88674|[6347, 16262, 220...|        []|\n",
      "|   91937|[25567, 20708, 38...|        []|\n",
      "|   92317|[24852, 41005, 46...|        []|\n",
      "|   99621|[43789, 38266, 40...|        []|\n",
      "+--------+--------------------+----------+\n",
      "only showing top 20 rows\n",
      "\n"
     ]
    }
   ],
   "source": [
    "model.transform(orders_df).show()"
   ]
  }
 ],
 "metadata": {
  "kernelspec": {
   "display_name": "Python 3",
   "language": "python",
   "name": "python3"
  },
  "language_info": {
   "codemirror_mode": {
    "name": "ipython",
    "version": 3
   },
   "file_extension": ".py",
   "mimetype": "text/x-python",
   "name": "python",
   "nbconvert_exporter": "python",
   "pygments_lexer": "ipython3",
   "version": "3.8.3"
  }
 },
 "nbformat": 4,
 "nbformat_minor": 4
}
